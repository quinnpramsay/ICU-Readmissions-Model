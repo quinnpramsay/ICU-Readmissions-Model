{
  "nbformat": 4,
  "nbformat_minor": 0,
  "metadata": {
    "colab": {
      "provenance": []
    },
    "kernelspec": {
      "name": "python3",
      "display_name": "Python 3"
    },
    "language_info": {
      "name": "python"
    }
  },
  "cells": [
    {
      "cell_type": "code",
      "execution_count": 63,
      "metadata": {
        "id": "Pzq2OrOtL_HL"
      },
      "outputs": [],
      "source": [
        "\n",
        "from sklearn.linear_model import LogisticRegression # binary classification\n",
        "import numpy as np\n",
        "import pandas as pd\n",
        "import matplotlib.pyplot as plt\n"
      ]
    },
    {
      "cell_type": "code",
      "source": [
        "# Access data using Google BigQuery.\n",
        "from google.colab import auth\n",
        "from google.cloud import bigquery\n",
        "\n",
        "auth.authenticate_user()\n",
        "\n",
        "project_id='icu-readmissions-ai-project'\n",
        "client = bigquery.Client(project=project_id)\n",
        "\n",
        "# MIMIC-IV v3.1 dataset information\n",
        "MIMIC_PROJECT = \"physionet-data\"\n",
        "MIMIC_DATASET_HOSP = \"mimiciv_3_1_hosp\"\n",
        "MIMIC_DATASET_ICU = \"mimiciv_3_1_icu\""
      ],
      "metadata": {
        "id": "LBW7_bufXpuD"
      },
      "execution_count": 64,
      "outputs": []
    },
    {
      "cell_type": "code",
      "source": [
        "# Query all data needed from MIMIC-IV\n",
        "base_query = f\"\"\"\n",
        "WITH icu_stays AS (\n",
        "    SELECT\n",
        "        icus.subject_id,\n",
        "        icus.hadm_id,\n",
        "        icus.stay_id,\n",
        "        icus.intime,\n",
        "        icus.outtime,\n",
        "        icus.los as icu_los_days,\n",
        "        icus.first_careunit,\n",
        "        icus.last_careunit,\n",
        "\n",
        "        LEAD(intime) OVER (PARTITION BY subject_id ORDER BY intime) as next_icu_intime,\n",
        "        LEAD(stay_id) OVER (PARTITION BY subject_id ORDER BY intime) as next_stay_id\n",
        "\n",
        "    FROM `{MIMIC_PROJECT}.{MIMIC_DATASET_ICU}.icustays` icus\n",
        ")\n",
        "\"\"\"\n"
      ],
      "metadata": {
        "id": "CkOhExbbeHP3"
      },
      "execution_count": 72,
      "outputs": []
    },
    {
      "cell_type": "code",
      "source": [
        "# Turn this data into 30 Day ICU Readmissions\n",
        "readmission_query = base_query + \"\"\"\n",
        " , readmissions AS (\n",
        "    SELECT\n",
        "        *,\n",
        "        DATETIME_DIFF(next_icu_intime, outtime, DAY) as days_to_readmission,\n",
        "        CASE\n",
        "            WHEN DATETIME_DIFF(next_icu_intime, outtime, DAY) <= 30\n",
        "            AND DATETIME_DIFF(next_icu_intime, outtime, DAY) >= 0\n",
        "            THEN 1\n",
        "            ELSE 0\n",
        "        END as readmitted_30day\n",
        "    FROM icu_stays\n",
        ")\n",
        "SELECT *\n",
        "FROM readmissions\n",
        "ORDER BY subject_id, intime\n",
        "\"\"\""
      ],
      "metadata": {
        "id": "oIZjEnagfslh"
      },
      "execution_count": 76,
      "outputs": []
    },
    {
      "cell_type": "code",
      "source": [
        "df_readmissions = client.query(readmission_query).to_dataframe()"
      ],
      "metadata": {
        "id": "cgSEmO2ri6cU"
      },
      "execution_count": 80,
      "outputs": []
    }
  ]
}